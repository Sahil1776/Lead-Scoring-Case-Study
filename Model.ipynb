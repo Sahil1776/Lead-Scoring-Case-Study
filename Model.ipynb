{
 "cells": [
  {
   "cell_type": "code",
   "execution_count": 1,
   "id": "5fa927a8",
   "metadata": {},
   "outputs": [],
   "source": [
    "import numpy as np\n",
    "import pandas as pd\n",
    "import matplotlib.pyplot as plt\n",
    "import seaborn as sns\n",
    "import sklearn\n",
    "import warnings\n",
    "warnings.filterwarnings(\"ignore\")"
   ]
  },
  {
   "cell_type": "code",
   "execution_count": 2,
   "id": "b2777abc",
   "metadata": {},
   "outputs": [
    {
     "data": {
      "text/html": [
       "<div>\n",
       "<style scoped>\n",
       "    .dataframe tbody tr th:only-of-type {\n",
       "        vertical-align: middle;\n",
       "    }\n",
       "\n",
       "    .dataframe tbody tr th {\n",
       "        vertical-align: top;\n",
       "    }\n",
       "\n",
       "    .dataframe thead th {\n",
       "        text-align: right;\n",
       "    }\n",
       "</style>\n",
       "<table border=\"1\" class=\"dataframe\">\n",
       "  <thead>\n",
       "    <tr style=\"text-align: right;\">\n",
       "      <th></th>\n",
       "      <th>Prospect ID</th>\n",
       "      <th>Lead Number</th>\n",
       "      <th>Lead Origin</th>\n",
       "      <th>Lead Source</th>\n",
       "      <th>Do Not Email</th>\n",
       "      <th>Do Not Call</th>\n",
       "      <th>Converted</th>\n",
       "      <th>TotalVisits</th>\n",
       "      <th>Total Time Spent on Website</th>\n",
       "      <th>Page Views Per Visit</th>\n",
       "      <th>...</th>\n",
       "      <th>Get updates on DM Content</th>\n",
       "      <th>Lead Profile</th>\n",
       "      <th>City</th>\n",
       "      <th>Asymmetrique Activity Index</th>\n",
       "      <th>Asymmetrique Profile Index</th>\n",
       "      <th>Asymmetrique Activity Score</th>\n",
       "      <th>Asymmetrique Profile Score</th>\n",
       "      <th>I agree to pay the amount through cheque</th>\n",
       "      <th>A free copy of Mastering The Interview</th>\n",
       "      <th>Last Notable Activity</th>\n",
       "    </tr>\n",
       "  </thead>\n",
       "  <tbody>\n",
       "    <tr>\n",
       "      <th>0</th>\n",
       "      <td>7927b2df-8bba-4d29-b9a2-b6e0beafe620</td>\n",
       "      <td>660737</td>\n",
       "      <td>API</td>\n",
       "      <td>Olark Chat</td>\n",
       "      <td>No</td>\n",
       "      <td>No</td>\n",
       "      <td>0</td>\n",
       "      <td>0.0</td>\n",
       "      <td>0</td>\n",
       "      <td>0.0</td>\n",
       "      <td>...</td>\n",
       "      <td>No</td>\n",
       "      <td>Select</td>\n",
       "      <td>Select</td>\n",
       "      <td>02.Medium</td>\n",
       "      <td>02.Medium</td>\n",
       "      <td>15.0</td>\n",
       "      <td>15.0</td>\n",
       "      <td>No</td>\n",
       "      <td>No</td>\n",
       "      <td>Modified</td>\n",
       "    </tr>\n",
       "    <tr>\n",
       "      <th>1</th>\n",
       "      <td>2a272436-5132-4136-86fa-dcc88c88f482</td>\n",
       "      <td>660728</td>\n",
       "      <td>API</td>\n",
       "      <td>Organic Search</td>\n",
       "      <td>No</td>\n",
       "      <td>No</td>\n",
       "      <td>0</td>\n",
       "      <td>5.0</td>\n",
       "      <td>674</td>\n",
       "      <td>2.5</td>\n",
       "      <td>...</td>\n",
       "      <td>No</td>\n",
       "      <td>Select</td>\n",
       "      <td>Select</td>\n",
       "      <td>02.Medium</td>\n",
       "      <td>02.Medium</td>\n",
       "      <td>15.0</td>\n",
       "      <td>15.0</td>\n",
       "      <td>No</td>\n",
       "      <td>No</td>\n",
       "      <td>Email Opened</td>\n",
       "    </tr>\n",
       "    <tr>\n",
       "      <th>2</th>\n",
       "      <td>8cc8c611-a219-4f35-ad23-fdfd2656bd8a</td>\n",
       "      <td>660727</td>\n",
       "      <td>Landing Page Submission</td>\n",
       "      <td>Direct Traffic</td>\n",
       "      <td>No</td>\n",
       "      <td>No</td>\n",
       "      <td>1</td>\n",
       "      <td>2.0</td>\n",
       "      <td>1532</td>\n",
       "      <td>2.0</td>\n",
       "      <td>...</td>\n",
       "      <td>No</td>\n",
       "      <td>Potential Lead</td>\n",
       "      <td>Mumbai</td>\n",
       "      <td>02.Medium</td>\n",
       "      <td>01.High</td>\n",
       "      <td>14.0</td>\n",
       "      <td>20.0</td>\n",
       "      <td>No</td>\n",
       "      <td>Yes</td>\n",
       "      <td>Email Opened</td>\n",
       "    </tr>\n",
       "    <tr>\n",
       "      <th>3</th>\n",
       "      <td>0cc2df48-7cf4-4e39-9de9-19797f9b38cc</td>\n",
       "      <td>660719</td>\n",
       "      <td>Landing Page Submission</td>\n",
       "      <td>Direct Traffic</td>\n",
       "      <td>No</td>\n",
       "      <td>No</td>\n",
       "      <td>0</td>\n",
       "      <td>1.0</td>\n",
       "      <td>305</td>\n",
       "      <td>1.0</td>\n",
       "      <td>...</td>\n",
       "      <td>No</td>\n",
       "      <td>Select</td>\n",
       "      <td>Mumbai</td>\n",
       "      <td>02.Medium</td>\n",
       "      <td>01.High</td>\n",
       "      <td>13.0</td>\n",
       "      <td>17.0</td>\n",
       "      <td>No</td>\n",
       "      <td>No</td>\n",
       "      <td>Modified</td>\n",
       "    </tr>\n",
       "    <tr>\n",
       "      <th>4</th>\n",
       "      <td>3256f628-e534-4826-9d63-4a8b88782852</td>\n",
       "      <td>660681</td>\n",
       "      <td>Landing Page Submission</td>\n",
       "      <td>Google</td>\n",
       "      <td>No</td>\n",
       "      <td>No</td>\n",
       "      <td>1</td>\n",
       "      <td>2.0</td>\n",
       "      <td>1428</td>\n",
       "      <td>1.0</td>\n",
       "      <td>...</td>\n",
       "      <td>No</td>\n",
       "      <td>Select</td>\n",
       "      <td>Mumbai</td>\n",
       "      <td>02.Medium</td>\n",
       "      <td>01.High</td>\n",
       "      <td>15.0</td>\n",
       "      <td>18.0</td>\n",
       "      <td>No</td>\n",
       "      <td>No</td>\n",
       "      <td>Modified</td>\n",
       "    </tr>\n",
       "  </tbody>\n",
       "</table>\n",
       "<p>5 rows × 37 columns</p>\n",
       "</div>"
      ],
      "text/plain": [
       "                            Prospect ID  Lead Number              Lead Origin  \\\n",
       "0  7927b2df-8bba-4d29-b9a2-b6e0beafe620       660737                      API   \n",
       "1  2a272436-5132-4136-86fa-dcc88c88f482       660728                      API   \n",
       "2  8cc8c611-a219-4f35-ad23-fdfd2656bd8a       660727  Landing Page Submission   \n",
       "3  0cc2df48-7cf4-4e39-9de9-19797f9b38cc       660719  Landing Page Submission   \n",
       "4  3256f628-e534-4826-9d63-4a8b88782852       660681  Landing Page Submission   \n",
       "\n",
       "      Lead Source Do Not Email Do Not Call  Converted  TotalVisits  \\\n",
       "0      Olark Chat           No          No          0          0.0   \n",
       "1  Organic Search           No          No          0          5.0   \n",
       "2  Direct Traffic           No          No          1          2.0   \n",
       "3  Direct Traffic           No          No          0          1.0   \n",
       "4          Google           No          No          1          2.0   \n",
       "\n",
       "   Total Time Spent on Website  Page Views Per Visit  ...  \\\n",
       "0                            0                   0.0  ...   \n",
       "1                          674                   2.5  ...   \n",
       "2                         1532                   2.0  ...   \n",
       "3                          305                   1.0  ...   \n",
       "4                         1428                   1.0  ...   \n",
       "\n",
       "  Get updates on DM Content    Lead Profile    City  \\\n",
       "0                        No          Select  Select   \n",
       "1                        No          Select  Select   \n",
       "2                        No  Potential Lead  Mumbai   \n",
       "3                        No          Select  Mumbai   \n",
       "4                        No          Select  Mumbai   \n",
       "\n",
       "  Asymmetrique Activity Index Asymmetrique Profile Index  \\\n",
       "0                   02.Medium                  02.Medium   \n",
       "1                   02.Medium                  02.Medium   \n",
       "2                   02.Medium                    01.High   \n",
       "3                   02.Medium                    01.High   \n",
       "4                   02.Medium                    01.High   \n",
       "\n",
       "  Asymmetrique Activity Score Asymmetrique Profile Score  \\\n",
       "0                        15.0                       15.0   \n",
       "1                        15.0                       15.0   \n",
       "2                        14.0                       20.0   \n",
       "3                        13.0                       17.0   \n",
       "4                        15.0                       18.0   \n",
       "\n",
       "  I agree to pay the amount through cheque  \\\n",
       "0                                       No   \n",
       "1                                       No   \n",
       "2                                       No   \n",
       "3                                       No   \n",
       "4                                       No   \n",
       "\n",
       "  A free copy of Mastering The Interview Last Notable Activity  \n",
       "0                                     No              Modified  \n",
       "1                                     No          Email Opened  \n",
       "2                                    Yes          Email Opened  \n",
       "3                                     No              Modified  \n",
       "4                                     No              Modified  \n",
       "\n",
       "[5 rows x 37 columns]"
      ]
     },
     "execution_count": 2,
     "metadata": {},
     "output_type": "execute_result"
    }
   ],
   "source": [
    "df = pd.read_csv('/Users/sahilkakkar/Downloads/Lead-Scoring-Case-Study/Leads.csv')\n",
    "df.head()"
   ]
  },
  {
   "cell_type": "code",
   "execution_count": 3,
   "id": "b0c7a74e",
   "metadata": {},
   "outputs": [
    {
     "name": "stdout",
     "output_type": "stream",
     "text": [
      "<class 'pandas.core.frame.DataFrame'>\n",
      "RangeIndex: 9240 entries, 0 to 9239\n",
      "Data columns (total 37 columns):\n",
      " #   Column                                         Non-Null Count  Dtype  \n",
      "---  ------                                         --------------  -----  \n",
      " 0   Prospect ID                                    9240 non-null   object \n",
      " 1   Lead Number                                    9240 non-null   int64  \n",
      " 2   Lead Origin                                    9240 non-null   object \n",
      " 3   Lead Source                                    9204 non-null   object \n",
      " 4   Do Not Email                                   9240 non-null   object \n",
      " 5   Do Not Call                                    9240 non-null   object \n",
      " 6   Converted                                      9240 non-null   int64  \n",
      " 7   TotalVisits                                    9103 non-null   float64\n",
      " 8   Total Time Spent on Website                    9240 non-null   int64  \n",
      " 9   Page Views Per Visit                           9103 non-null   float64\n",
      " 10  Last Activity                                  9137 non-null   object \n",
      " 11  Country                                        6779 non-null   object \n",
      " 12  Specialization                                 7802 non-null   object \n",
      " 13  How did you hear about X Education             7033 non-null   object \n",
      " 14  What is your current occupation                6550 non-null   object \n",
      " 15  What matters most to you in choosing a course  6531 non-null   object \n",
      " 16  Search                                         9240 non-null   object \n",
      " 17  Magazine                                       9240 non-null   object \n",
      " 18  Newspaper Article                              9240 non-null   object \n",
      " 19  X Education Forums                             9240 non-null   object \n",
      " 20  Newspaper                                      9240 non-null   object \n",
      " 21  Digital Advertisement                          9240 non-null   object \n",
      " 22  Through Recommendations                        9240 non-null   object \n",
      " 23  Receive More Updates About Our Courses         9240 non-null   object \n",
      " 24  Tags                                           5887 non-null   object \n",
      " 25  Lead Quality                                   4473 non-null   object \n",
      " 26  Update me on Supply Chain Content              9240 non-null   object \n",
      " 27  Get updates on DM Content                      9240 non-null   object \n",
      " 28  Lead Profile                                   6531 non-null   object \n",
      " 29  City                                           7820 non-null   object \n",
      " 30  Asymmetrique Activity Index                    5022 non-null   object \n",
      " 31  Asymmetrique Profile Index                     5022 non-null   object \n",
      " 32  Asymmetrique Activity Score                    5022 non-null   float64\n",
      " 33  Asymmetrique Profile Score                     5022 non-null   float64\n",
      " 34  I agree to pay the amount through cheque       9240 non-null   object \n",
      " 35  A free copy of Mastering The Interview         9240 non-null   object \n",
      " 36  Last Notable Activity                          9240 non-null   object \n",
      "dtypes: float64(4), int64(3), object(30)\n",
      "memory usage: 2.6+ MB\n"
     ]
    }
   ],
   "source": [
    "df.info()"
   ]
  },
  {
   "cell_type": "code",
   "execution_count": 4,
   "id": "85fbc26b",
   "metadata": {},
   "outputs": [
    {
     "data": {
      "text/html": [
       "<div>\n",
       "<style scoped>\n",
       "    .dataframe tbody tr th:only-of-type {\n",
       "        vertical-align: middle;\n",
       "    }\n",
       "\n",
       "    .dataframe tbody tr th {\n",
       "        vertical-align: top;\n",
       "    }\n",
       "\n",
       "    .dataframe thead th {\n",
       "        text-align: right;\n",
       "    }\n",
       "</style>\n",
       "<table border=\"1\" class=\"dataframe\">\n",
       "  <thead>\n",
       "    <tr style=\"text-align: right;\">\n",
       "      <th></th>\n",
       "      <th>Lead Number</th>\n",
       "      <th>Converted</th>\n",
       "      <th>TotalVisits</th>\n",
       "      <th>Total Time Spent on Website</th>\n",
       "      <th>Page Views Per Visit</th>\n",
       "      <th>Asymmetrique Activity Score</th>\n",
       "      <th>Asymmetrique Profile Score</th>\n",
       "    </tr>\n",
       "  </thead>\n",
       "  <tbody>\n",
       "    <tr>\n",
       "      <th>count</th>\n",
       "      <td>9240.000000</td>\n",
       "      <td>9240.000000</td>\n",
       "      <td>9103.000000</td>\n",
       "      <td>9240.000000</td>\n",
       "      <td>9103.000000</td>\n",
       "      <td>5022.000000</td>\n",
       "      <td>5022.000000</td>\n",
       "    </tr>\n",
       "    <tr>\n",
       "      <th>mean</th>\n",
       "      <td>617188.435606</td>\n",
       "      <td>0.385390</td>\n",
       "      <td>3.445238</td>\n",
       "      <td>487.698268</td>\n",
       "      <td>2.362820</td>\n",
       "      <td>14.306252</td>\n",
       "      <td>16.344883</td>\n",
       "    </tr>\n",
       "    <tr>\n",
       "      <th>std</th>\n",
       "      <td>23405.995698</td>\n",
       "      <td>0.486714</td>\n",
       "      <td>4.854853</td>\n",
       "      <td>548.021466</td>\n",
       "      <td>2.161418</td>\n",
       "      <td>1.386694</td>\n",
       "      <td>1.811395</td>\n",
       "    </tr>\n",
       "    <tr>\n",
       "      <th>min</th>\n",
       "      <td>579533.000000</td>\n",
       "      <td>0.000000</td>\n",
       "      <td>0.000000</td>\n",
       "      <td>0.000000</td>\n",
       "      <td>0.000000</td>\n",
       "      <td>7.000000</td>\n",
       "      <td>11.000000</td>\n",
       "    </tr>\n",
       "    <tr>\n",
       "      <th>25%</th>\n",
       "      <td>596484.500000</td>\n",
       "      <td>0.000000</td>\n",
       "      <td>1.000000</td>\n",
       "      <td>12.000000</td>\n",
       "      <td>1.000000</td>\n",
       "      <td>14.000000</td>\n",
       "      <td>15.000000</td>\n",
       "    </tr>\n",
       "    <tr>\n",
       "      <th>50%</th>\n",
       "      <td>615479.000000</td>\n",
       "      <td>0.000000</td>\n",
       "      <td>3.000000</td>\n",
       "      <td>248.000000</td>\n",
       "      <td>2.000000</td>\n",
       "      <td>14.000000</td>\n",
       "      <td>16.000000</td>\n",
       "    </tr>\n",
       "    <tr>\n",
       "      <th>75%</th>\n",
       "      <td>637387.250000</td>\n",
       "      <td>1.000000</td>\n",
       "      <td>5.000000</td>\n",
       "      <td>936.000000</td>\n",
       "      <td>3.000000</td>\n",
       "      <td>15.000000</td>\n",
       "      <td>18.000000</td>\n",
       "    </tr>\n",
       "    <tr>\n",
       "      <th>max</th>\n",
       "      <td>660737.000000</td>\n",
       "      <td>1.000000</td>\n",
       "      <td>251.000000</td>\n",
       "      <td>2272.000000</td>\n",
       "      <td>55.000000</td>\n",
       "      <td>18.000000</td>\n",
       "      <td>20.000000</td>\n",
       "    </tr>\n",
       "  </tbody>\n",
       "</table>\n",
       "</div>"
      ],
      "text/plain": [
       "         Lead Number    Converted  TotalVisits  Total Time Spent on Website  \\\n",
       "count    9240.000000  9240.000000  9103.000000                  9240.000000   \n",
       "mean   617188.435606     0.385390     3.445238                   487.698268   \n",
       "std     23405.995698     0.486714     4.854853                   548.021466   \n",
       "min    579533.000000     0.000000     0.000000                     0.000000   \n",
       "25%    596484.500000     0.000000     1.000000                    12.000000   \n",
       "50%    615479.000000     0.000000     3.000000                   248.000000   \n",
       "75%    637387.250000     1.000000     5.000000                   936.000000   \n",
       "max    660737.000000     1.000000   251.000000                  2272.000000   \n",
       "\n",
       "       Page Views Per Visit  Asymmetrique Activity Score  \\\n",
       "count           9103.000000                  5022.000000   \n",
       "mean               2.362820                    14.306252   \n",
       "std                2.161418                     1.386694   \n",
       "min                0.000000                     7.000000   \n",
       "25%                1.000000                    14.000000   \n",
       "50%                2.000000                    14.000000   \n",
       "75%                3.000000                    15.000000   \n",
       "max               55.000000                    18.000000   \n",
       "\n",
       "       Asymmetrique Profile Score  \n",
       "count                 5022.000000  \n",
       "mean                    16.344883  \n",
       "std                      1.811395  \n",
       "min                     11.000000  \n",
       "25%                     15.000000  \n",
       "50%                     16.000000  \n",
       "75%                     18.000000  \n",
       "max                     20.000000  "
      ]
     },
     "execution_count": 4,
     "metadata": {},
     "output_type": "execute_result"
    }
   ],
   "source": [
    "df.describe()"
   ]
  },
  {
   "cell_type": "markdown",
   "id": "a8d4a487",
   "metadata": {},
   "source": [
    "#### Dropping Useless Columns (Reasons Mentioned)"
   ]
  },
  {
   "cell_type": "code",
   "execution_count": 5,
   "id": "17331745",
   "metadata": {},
   "outputs": [
    {
     "name": "stdout",
     "output_type": "stream",
     "text": [
      "(9240, 37)\n",
      "9240\n",
      "9240\n"
     ]
    }
   ],
   "source": [
    "print(df.shape)\n",
    "print(len(df['Prospect ID'].unique()))\n",
    "print(len(df['Lead Number'].unique()))\n",
    "# This shows that there are no duplicate Prospect ID or Lead Number"
   ]
  },
  {
   "cell_type": "code",
   "execution_count": 6,
   "id": "f32b2572",
   "metadata": {},
   "outputs": [],
   "source": [
    "# We can drop the Prospect ID and Lead Number columns because they are merely identifiers and don't have any significant information for prediction\n",
    "df.drop(['Prospect ID', 'Lead Number'], axis = 1, inplace = True)"
   ]
  },
  {
   "cell_type": "code",
   "execution_count": 7,
   "id": "435a15a0",
   "metadata": {},
   "outputs": [
    {
     "data": {
      "text/plain": [
       "Index(['Lead Origin', 'Lead Source', 'Do Not Email', 'Do Not Call',\n",
       "       'Converted', 'TotalVisits', 'Total Time Spent on Website',\n",
       "       'Page Views Per Visit', 'Last Activity', 'Country', 'Specialization',\n",
       "       'How did you hear about X Education', 'What is your current occupation',\n",
       "       'What matters most to you in choosing a course', 'Search', 'Magazine',\n",
       "       'Newspaper Article', 'X Education Forums', 'Newspaper',\n",
       "       'Digital Advertisement', 'Through Recommendations',\n",
       "       'Receive More Updates About Our Courses', 'Tags', 'Lead Quality',\n",
       "       'Update me on Supply Chain Content', 'Get updates on DM Content',\n",
       "       'Lead Profile', 'City', 'Asymmetrique Activity Index',\n",
       "       'Asymmetrique Profile Index', 'Asymmetrique Activity Score',\n",
       "       'Asymmetrique Profile Score',\n",
       "       'I agree to pay the amount through cheque',\n",
       "       'A free copy of Mastering The Interview', 'Last Notable Activity'],\n",
       "      dtype='object')"
      ]
     },
     "execution_count": 7,
     "metadata": {},
     "output_type": "execute_result"
    }
   ],
   "source": [
    "df.columns"
   ]
  },
  {
   "cell_type": "markdown",
   "id": "69ad2115",
   "metadata": {},
   "source": [
    "### Tackling Missing Values"
   ]
  },
  {
   "cell_type": "code",
   "execution_count": 8,
   "id": "e1ac0a67",
   "metadata": {},
   "outputs": [
    {
     "data": {
      "text/plain": [
       "Lead Origin                                       0.000000\n",
       "Lead Source                                       0.389610\n",
       "Do Not Email                                      0.000000\n",
       "Do Not Call                                       0.000000\n",
       "Converted                                         0.000000\n",
       "TotalVisits                                       1.482684\n",
       "Total Time Spent on Website                       0.000000\n",
       "Page Views Per Visit                              1.482684\n",
       "Last Activity                                     1.114719\n",
       "Country                                          26.634199\n",
       "Specialization                                   15.562771\n",
       "How did you hear about X Education               23.885281\n",
       "What is your current occupation                  29.112554\n",
       "What matters most to you in choosing a course    29.318182\n",
       "Search                                            0.000000\n",
       "Magazine                                          0.000000\n",
       "Newspaper Article                                 0.000000\n",
       "X Education Forums                                0.000000\n",
       "Newspaper                                         0.000000\n",
       "Digital Advertisement                             0.000000\n",
       "Through Recommendations                           0.000000\n",
       "Receive More Updates About Our Courses            0.000000\n",
       "Tags                                             36.287879\n",
       "Lead Quality                                     51.590909\n",
       "Update me on Supply Chain Content                 0.000000\n",
       "Get updates on DM Content                         0.000000\n",
       "Lead Profile                                     29.318182\n",
       "City                                             15.367965\n",
       "Asymmetrique Activity Index                      45.649351\n",
       "Asymmetrique Profile Index                       45.649351\n",
       "Asymmetrique Activity Score                      45.649351\n",
       "Asymmetrique Profile Score                       45.649351\n",
       "I agree to pay the amount through cheque          0.000000\n",
       "A free copy of Mastering The Interview            0.000000\n",
       "Last Notable Activity                             0.000000\n",
       "dtype: float64"
      ]
     },
     "execution_count": 8,
     "metadata": {},
     "output_type": "execute_result"
    }
   ],
   "source": [
    "(df.isnull().sum()/len(df))*100"
   ]
  },
  {
   "cell_type": "markdown",
   "id": "03f12e2b",
   "metadata": {},
   "source": [
    "Our dataset not only has missing values such as NaN but it also has many values by the \"Select\" keyword which means the user didn't fill these values. These values should also count as missing values and therefore we will replace them with NaN. But before that, we would make all the strings lowercase so that we don't miss other variations of \"Select\" if any present."
   ]
  },
  {
   "cell_type": "code",
   "execution_count": 9,
   "id": "0ce0e956",
   "metadata": {},
   "outputs": [],
   "source": [
    "df = df.applymap(lambda s:s.lower() if type(s) == str else s)"
   ]
  },
  {
   "cell_type": "code",
   "execution_count": 10,
   "id": "967e18bf",
   "metadata": {},
   "outputs": [],
   "source": [
    "df.replace('select', np.nan, inplace = True)"
   ]
  },
  {
   "cell_type": "code",
   "execution_count": 11,
   "id": "4614ba20",
   "metadata": {},
   "outputs": [
    {
     "data": {
      "text/plain": [
       "Lead Origin                                       0.000000\n",
       "Lead Source                                       0.389610\n",
       "Do Not Email                                      0.000000\n",
       "Do Not Call                                       0.000000\n",
       "Converted                                         0.000000\n",
       "TotalVisits                                       1.482684\n",
       "Total Time Spent on Website                       0.000000\n",
       "Page Views Per Visit                              1.482684\n",
       "Last Activity                                     1.114719\n",
       "Country                                          26.634199\n",
       "Specialization                                   36.580087\n",
       "How did you hear about X Education               78.463203\n",
       "What is your current occupation                  29.112554\n",
       "What matters most to you in choosing a course    29.318182\n",
       "Search                                            0.000000\n",
       "Magazine                                          0.000000\n",
       "Newspaper Article                                 0.000000\n",
       "X Education Forums                                0.000000\n",
       "Newspaper                                         0.000000\n",
       "Digital Advertisement                             0.000000\n",
       "Through Recommendations                           0.000000\n",
       "Receive More Updates About Our Courses            0.000000\n",
       "Tags                                             36.287879\n",
       "Lead Quality                                     51.590909\n",
       "Update me on Supply Chain Content                 0.000000\n",
       "Get updates on DM Content                         0.000000\n",
       "Lead Profile                                     74.188312\n",
       "City                                             39.707792\n",
       "Asymmetrique Activity Index                      45.649351\n",
       "Asymmetrique Profile Index                       45.649351\n",
       "Asymmetrique Activity Score                      45.649351\n",
       "Asymmetrique Profile Score                       45.649351\n",
       "I agree to pay the amount through cheque          0.000000\n",
       "A free copy of Mastering The Interview            0.000000\n",
       "Last Notable Activity                             0.000000\n",
       "dtype: float64"
      ]
     },
     "execution_count": 11,
     "metadata": {},
     "output_type": "execute_result"
    }
   ],
   "source": [
    "(df.isnull().sum()/len(df))  *100\n",
    "# This is a more correct representation of the missing values in our dataset."
   ]
  },
  {
   "cell_type": "markdown",
   "id": "22952e4f",
   "metadata": {},
   "source": [
    "Column: 'Lead Source' "
   ]
  },
  {
   "cell_type": "code",
   "execution_count": 12,
   "id": "e6530f91",
   "metadata": {},
   "outputs": [
    {
     "name": "stdout",
     "output_type": "stream",
     "text": [
      "google               31.093074\n",
      "direct traffic       27.521645\n",
      "olark chat           18.993506\n",
      "organic search       12.489177\n",
      "reference             5.779221\n",
      "welingak website      1.536797\n",
      "referral sites        1.352814\n",
      "facebook              0.595238\n",
      "NaN                   0.389610\n",
      "bing                  0.064935\n",
      "click2call            0.043290\n",
      "press_release         0.021645\n",
      "social media          0.021645\n",
      "live chat             0.021645\n",
      "youtubechannel        0.010823\n",
      "testone               0.010823\n",
      "pay per click ads     0.010823\n",
      "welearnblog_home      0.010823\n",
      "welearn               0.010823\n",
      "blog                  0.010823\n",
      "nc_edm                0.010823\n",
      "Name: Lead Source, dtype: float64\n"
     ]
    }
   ],
   "source": [
    "print(df['Lead Source'].value_counts(normalize = True, dropna = False) * 100)\n",
    "# Only 0.38% of the values in this column are missing\n",
    "# We can drop these values as they won't have any effect on our analysis as we have approximately 99.6% of the values."
   ]
  },
  {
   "cell_type": "code",
   "execution_count": 13,
   "id": "a6d365b9",
   "metadata": {},
   "outputs": [],
   "source": [
    "df = df[df['Lead Source'].notna()]"
   ]
  },
  {
   "cell_type": "markdown",
   "id": "7aec9639",
   "metadata": {},
   "source": [
    "Column: 'TotalVisits'"
   ]
  },
  {
   "cell_type": "code",
   "execution_count": 14,
   "id": "d764c902",
   "metadata": {},
   "outputs": [
    {
     "data": {
      "text/plain": [
       "0.0      23.478922\n",
       "1.0       4.291612\n",
       "2.0      18.242069\n",
       "3.0      14.189483\n",
       "4.0      12.168622\n",
       "5.0       8.507171\n",
       "6.0       5.063016\n",
       "7.0       3.357236\n",
       "8.0       2.433724\n",
       "9.0       1.781834\n",
       "10.0      1.238592\n",
       "11.0      0.934376\n",
       "12.0      0.488918\n",
       "13.0      0.521512\n",
       "14.0      0.391134\n",
       "15.0      0.195567\n",
       "16.0      0.228162\n",
       "17.0      0.173837\n",
       "18.0      0.162973\n",
       "19.0      0.097784\n",
       "20.0      0.130378\n",
       "21.0      0.065189\n",
       "22.0      0.032595\n",
       "23.0      0.065189\n",
       "24.0      0.054324\n",
       "25.0      0.054324\n",
       "26.0      0.021730\n",
       "27.0      0.054324\n",
       "28.0      0.021730\n",
       "29.0      0.021730\n",
       "30.0      0.010865\n",
       "32.0      0.010865\n",
       "41.0      0.010865\n",
       "42.0      0.010865\n",
       "43.0      0.010865\n",
       "54.0      0.010865\n",
       "55.0      0.010865\n",
       "74.0      0.010865\n",
       "115.0     0.010865\n",
       "141.0     0.010865\n",
       "251.0     0.010865\n",
       "NaN       1.412429\n",
       "Name: TotalVisits, dtype: float64"
      ]
     },
     "execution_count": 14,
     "metadata": {},
     "output_type": "execute_result"
    }
   ],
   "source": [
    "df['TotalVisits'].value_counts(normalize = True, dropna = False).sort_index() * 100\n",
    "# This column is similar to the \"Lead Source\" column\n",
    "# We can simply drop the rows which contain null values (which are less than 2%)"
   ]
  },
  {
   "cell_type": "code",
   "execution_count": 15,
   "id": "9d9f6ede",
   "metadata": {},
   "outputs": [],
   "source": [
    "df = df[df['TotalVisits'].notna()]"
   ]
  },
  {
   "cell_type": "markdown",
   "id": "0c203ae6",
   "metadata": {},
   "source": [
    "Column: 'Country' "
   ]
  },
  {
   "cell_type": "code",
   "execution_count": 17,
   "id": "cbb6c3c4",
   "metadata": {
    "scrolled": true
   },
   "outputs": [
    {
     "data": {
      "text/plain": [
       "india                   71.534053\n",
       "NaN                     25.303064\n",
       "united states            0.760414\n",
       "united arab emirates     0.584086\n",
       "singapore                0.264492\n",
       "saudi arabia             0.231430\n",
       "united kingdom           0.165307\n",
       "australia                0.143266\n",
       "qatar                    0.110205\n",
       "bahrain                  0.077143\n",
       "hong kong                0.077143\n",
       "oman                     0.066123\n",
       "france                   0.066123\n",
       "unknown                  0.055102\n",
       "kuwait                   0.044082\n",
       "south africa             0.044082\n",
       "canada                   0.044082\n",
       "nigeria                  0.044082\n",
       "germany                  0.044082\n",
       "sweden                   0.033061\n",
       "philippines              0.022041\n",
       "uganda                   0.022041\n",
       "italy                    0.022041\n",
       "bangladesh               0.022041\n",
       "netherlands              0.022041\n",
       "asia/pacific region      0.022041\n",
       "china                    0.022041\n",
       "belgium                  0.022041\n",
       "ghana                    0.022041\n",
       "kenya                    0.011020\n",
       "sri lanka                0.011020\n",
       "tanzania                 0.011020\n",
       "malaysia                 0.011020\n",
       "liberia                  0.011020\n",
       "switzerland              0.011020\n",
       "denmark                  0.011020\n",
       "russia                   0.011020\n",
       "vietnam                  0.011020\n",
       "indonesia                0.011020\n",
       "Name: Country, dtype: float64"
      ]
     },
     "execution_count": 17,
     "metadata": {},
     "output_type": "execute_result"
    }
   ],
   "source": [
    "df.Country.value_counts(normalize = True, dropna = False) * 100\n",
    "# 70% of the people are from Country \"India\" and the rest of the countries are below 1%\n",
    "# 26.63% of the values are missing while \"unknown\" is 0.054% of the values\n",
    "# This column doesn't have the necessary variance needed to be conducive to our analysis and predictions since most of the values are from one category \"India\"\n",
    "# It would be wise to drop this column"
   ]
  },
  {
   "cell_type": "code",
   "execution_count": 18,
   "id": "3a2898ea",
   "metadata": {},
   "outputs": [],
   "source": [
    "df.drop('Country', axis=1, inplace = True)"
   ]
  },
  {
   "cell_type": "markdown",
   "id": "fb08e077",
   "metadata": {},
   "source": [
    "Column: 'Specialization' "
   ]
  },
  {
   "cell_type": "code",
   "execution_count": 19,
   "id": "871e999c",
   "metadata": {},
   "outputs": [
    {
     "data": {
      "text/plain": [
       "NaN                                  36.169275\n",
       "finance management                   10.568658\n",
       "human resource management             9.224157\n",
       "marketing management                  9.069870\n",
       "operations management                 5.499229\n",
       "business administration               4.397179\n",
       "it projects management                4.033502\n",
       "supply chain management               3.813092\n",
       "banking, investment and insurance     3.691867\n",
       "travel and tourism                    2.226141\n",
       "media and advertising                 2.226141\n",
       "international business                1.939608\n",
       "healthcare management                 1.719198\n",
       "e-commerce                            1.223275\n",
       "hospitality management                1.223275\n",
       "retail management                     1.102050\n",
       "rural and agribusiness                0.804496\n",
       "e-business                            0.628168\n",
       "services excellence                   0.440820\n",
       "Name: Specialization, dtype: float64"
      ]
     },
     "execution_count": 19,
     "metadata": {},
     "output_type": "execute_result"
    }
   ],
   "source": [
    "df['Specialization'].value_counts(normalize = True, dropna = False) * 100\n",
    "# 36% of the values in this column are not provided\n",
    "# But these values aren't actually missing, they do have information hidden in them \n",
    "# There might be the case that the students didn't find the Specialization they were looking for,\n",
    "# or they were just not sure at the moment to make a decision and decided to not make a decision\n",
    "# So it would be wise to take these missing values as \"Unstated\", that would be a more correct representation"
   ]
  },
  {
   "cell_type": "code",
   "execution_count": 20,
   "id": "3af4dd19",
   "metadata": {},
   "outputs": [],
   "source": [
    "df['Specialization'].replace(np.nan, \"unstated\", inplace = True )"
   ]
  },
  {
   "cell_type": "markdown",
   "id": "35514a1c",
   "metadata": {},
   "source": [
    "Column: 'How did you hear about X Education'"
   ]
  },
  {
   "cell_type": "code",
   "execution_count": 21,
   "id": "01be73c8",
   "metadata": {},
   "outputs": [
    {
     "data": {
      "text/plain": [
       "NaN                      78.091250\n",
       "online search             8.904562\n",
       "word of mouth             3.824113\n",
       "student of someschool     3.416354\n",
       "other                     2.049813\n",
       "multiple sources          1.675116\n",
       "advertisements            0.771435\n",
       "social media              0.727353\n",
       "email                     0.286533\n",
       "sms                       0.253471\n",
       "Name: How did you hear about X Education, dtype: float64"
      ]
     },
     "execution_count": 21,
     "metadata": {},
     "output_type": "execute_result"
    }
   ],
   "source": [
    "df['How did you hear about X Education'].value_counts(normalize = True, dropna = False) * 100\n",
    "# 78% of the values in this column are missing\n",
    "# This column has no useful information for us to get insights from\n",
    "# We should drop this column"
   ]
  },
  {
   "cell_type": "code",
   "execution_count": 22,
   "id": "d16ba1da",
   "metadata": {},
   "outputs": [],
   "source": [
    "df.drop('How did you hear about X Education', axis = 1, inplace = True)"
   ]
  },
  {
   "cell_type": "markdown",
   "id": "f62c2261",
   "metadata": {},
   "source": [
    "Column: 'What is your current occupation'"
   ]
  },
  {
   "cell_type": "code",
   "execution_count": 23,
   "id": "985f5693",
   "metadata": {},
   "outputs": [
    {
     "data": {
      "text/plain": [
       "unemployed              60.348248\n",
       "NaN                     29.567996\n",
       "working professional     7.460877\n",
       "student                  2.270223\n",
       "other                    0.165307\n",
       "housewife                0.099184\n",
       "businessman              0.088164\n",
       "Name: What is your current occupation, dtype: float64"
      ]
     },
     "execution_count": 23,
     "metadata": {},
     "output_type": "execute_result"
    }
   ],
   "source": [
    "df['What is your current occupation'].value_counts(normalize = True, dropna = False) * 100\n",
    "# We should impute 'Unemployed' in the case of missing values in this case"
   ]
  },
  {
   "cell_type": "code",
   "execution_count": 24,
   "id": "df605e22",
   "metadata": {},
   "outputs": [],
   "source": [
    "df['What is your current occupation'].replace(np.nan, \"unemployed\", inplace = True)"
   ]
  },
  {
   "cell_type": "markdown",
   "id": "da0297c8",
   "metadata": {},
   "source": [
    "Column: 'What matters most to you in choosing a course'"
   ]
  },
  {
   "cell_type": "code",
   "execution_count": 26,
   "id": "835812b3",
   "metadata": {},
   "outputs": [
    {
     "data": {
      "text/plain": [
       "better career prospects      70.200573\n",
       "NaN                          29.777386\n",
       "flexibility & convenience     0.011020\n",
       "other                         0.011020\n",
       "Name: What matters most to you in choosing a course, dtype: float64"
      ]
     },
     "execution_count": 26,
     "metadata": {},
     "output_type": "execute_result"
    }
   ],
   "source": [
    "df['What matters most to you in choosing a course'].value_counts(normalize = True, dropna = False) * 100\n",
    "# 70% of the values say \"better career prospects\" while approximately 30% of the values are missing\n",
    "# This column doesn't have the necessary variance to be conducive to our analysis and making predictions\n",
    "# It would be wise to drop this column"
   ]
  },
  {
   "cell_type": "code",
   "execution_count": 27,
   "id": "be1f4b5b",
   "metadata": {},
   "outputs": [],
   "source": [
    "df.drop('What matters most to you in choosing a course', axis = 1, inplace = True)"
   ]
  },
  {
   "cell_type": "markdown",
   "id": "f6af0b5d",
   "metadata": {},
   "source": [
    "Column: 'Tags'"
   ]
  },
  {
   "cell_type": "code",
   "execution_count": 29,
   "id": "29105ee7",
   "metadata": {},
   "outputs": [
    {
     "data": {
      "text/plain": [
       "NaN                                                  36.665197\n",
       "will revert after reading the email                  22.217324\n",
       "ringing                                              13.081331\n",
       "interested in other courses                           5.609434\n",
       "already a student                                     5.124532\n",
       "closed by horizzon                                    3.317170\n",
       "switched off                                          2.644920\n",
       "busy                                                  2.038792\n",
       "lost to eins                                          1.895526\n",
       "not doing further education                           1.597972\n",
       "interested  in full time mba                          1.278378\n",
       "graduation in progress                                1.223275\n",
       "invalid number                                        0.914701\n",
       "diploma holder (not eligible)                         0.694291\n",
       "wrong number given                                    0.517963\n",
       "opp hangup                                            0.363676\n",
       "number not provided                                   0.275512\n",
       "in touch with eins                                    0.132246\n",
       "lost to others                                        0.077143\n",
       "still thinking                                        0.066123\n",
       "want to take admission but has financial problems     0.066123\n",
       "in confusion whether part time or dlp                 0.055102\n",
       "interested in next batch                              0.055102\n",
       "lateral student                                       0.033061\n",
       "shall take in the next coming month                   0.022041\n",
       "university not recognized                             0.022041\n",
       "recognition issue (dec approval)                      0.011020\n",
       "Name: Tags, dtype: float64"
      ]
     },
     "execution_count": 29,
     "metadata": {},
     "output_type": "execute_result"
    }
   ],
   "source": [
    "df['Tags'].value_counts(normalize = True, dropna = False) * 100\n",
    "# 36% of the values in this column are missing\n",
    "# Also, except the categories like \"will revert after reading the email\" and \"ringing\", all the other categories don't even represent more than 6% individually and they seem really erratic as well (for eg, invalid number and wrong number given)\n",
    "# This column doesn't seem to be helpful in our analysis. So it would be in our best interests to drop it."
   ]
  },
  {
   "cell_type": "code",
   "execution_count": 30,
   "id": "2dcd2c26",
   "metadata": {},
   "outputs": [],
   "source": [
    "df.drop('Tags', axis=1, inplace = True)"
   ]
  },
  {
   "cell_type": "markdown",
   "id": "1d56918a",
   "metadata": {},
   "source": [
    "Column: \"Lead Quality\""
   ]
  },
  {
   "cell_type": "code",
   "execution_count": 33,
   "id": "cb28ec09",
   "metadata": {},
   "outputs": [
    {
     "data": {
      "text/plain": [
       "NaN                  52.016751\n",
       "might be             16.740137\n",
       "not sure             11.968261\n",
       "worst                 6.623319\n",
       "high in relevance     6.524135\n",
       "low in relevance      6.127397\n",
       "Name: Lead Quality, dtype: float64"
      ]
     },
     "execution_count": 33,
     "metadata": {},
     "output_type": "execute_result"
    }
   ],
   "source": [
    "df['Lead Quality'].value_counts(normalize = True, dropna = False) * 100\n",
    "# 52% of the values in this column are missing\n",
    "# While categories like \"might be\", \"not sure\" don't seem too different from each other, others don't represent more than 7% individually\n",
    "# It would be wise to drop this column"
   ]
  },
  {
   "cell_type": "code",
   "execution_count": 34,
   "id": "25f17ddc",
   "metadata": {},
   "outputs": [],
   "source": [
    "df.drop('Lead Quality', axis = 1, inplace = True)"
   ]
  },
  {
   "cell_type": "markdown",
   "id": "e3079034",
   "metadata": {},
   "source": [
    "Column: 'Lead Profile'"
   ]
  },
  {
   "cell_type": "code",
   "execution_count": 38,
   "id": "684e4378",
   "metadata": {},
   "outputs": [
    {
     "data": {
      "text/plain": [
       "NaN                            74.465506\n",
       "potential lead                 17.125854\n",
       "other leads                     5.311880\n",
       "student of someschool           2.644920\n",
       "lateral student                 0.231430\n",
       "dual specialization student     0.220410\n",
       "Name: Lead Profile, dtype: float64"
      ]
     },
     "execution_count": 38,
     "metadata": {},
     "output_type": "execute_result"
    }
   ],
   "source": [
    "df['Lead Profile'].value_counts(normalize = True, dropna = False) * 100\n",
    "# With 74% of the values missing, it would make sense to drop this column"
   ]
  },
  {
   "cell_type": "code",
   "execution_count": 39,
   "id": "0936e47e",
   "metadata": {},
   "outputs": [],
   "source": [
    "df.drop('Lead Profile', axis = 1, inplace = True)"
   ]
  },
  {
   "cell_type": "markdown",
   "id": "da3ac505",
   "metadata": {},
   "source": [
    "Column: 'City'"
   ]
  },
  {
   "cell_type": "code",
   "execution_count": 43,
   "id": "65b2b76e",
   "metadata": {},
   "outputs": [
    {
     "data": {
      "text/plain": [
       "NaN                            39.398281\n",
       "mumbai                         35.012123\n",
       "thane & outskirts               8.210271\n",
       "other cities                    7.493939\n",
       "other cities of maharashtra     4.915142\n",
       "other metro cities              4.154728\n",
       "tier ii cities                  0.815517\n",
       "Name: City, dtype: float64"
      ]
     },
     "execution_count": 43,
     "metadata": {},
     "output_type": "execute_result"
    }
   ],
   "source": [
    "df['City'].value_counts(normalize = True, dropna = False) * 100\n",
    "# 39% of the values are missing while 35% of the values say \"mumbai\"\n",
    "# This column doesn't have the necessary amount of variance to contribute in predictions\n",
    "# We are dropping this column"
   ]
  },
  {
   "cell_type": "code",
   "execution_count": 44,
   "id": "ad3277ed",
   "metadata": {},
   "outputs": [],
   "source": [
    "df.drop('City', axis = 1, inplace = True)"
   ]
  },
  {
   "cell_type": "markdown",
   "id": "c9af7f06",
   "metadata": {},
   "source": [
    "Columns:\n",
    "- 'Asymmetrique Activity Index'\n",
    "- 'Asymmetrique Profile Index'\n",
    "- 'Asymmetrique Activity Score'\n",
    "- 'Asymmetrique Profile Score'"
   ]
  },
  {
   "cell_type": "code",
   "execution_count": 46,
   "id": "779b5516",
   "metadata": {},
   "outputs": [
    {
     "name": "stdout",
     "output_type": "stream",
     "text": [
      "Asymmetrique Activity Index\n",
      "45.768128719418115%\n",
      "\n",
      "Asymmetrique Profile Index\n",
      "45.768128719418115%\n",
      "\n",
      "Asymmetrique Activity Score\n",
      "45.768128719418115%\n",
      "\n",
      "Asymmetrique Profile Score\n",
      "45.768128719418115%\n",
      "\n"
     ]
    }
   ],
   "source": [
    "for col in ['Asymmetrique Activity Index', 'Asymmetrique Profile Index', 'Asymmetrique Activity Score', 'Asymmetrique Profile Score']:\n",
    "    print(col)\n",
    "    print(str((df[col].isnull().sum()/len(df))*100) + '%')\n",
    "    print()\n",
    "\n",
    "# With more than 45% of the values missing in these 4 columns, they should be all be dropped."
   ]
  },
  {
   "cell_type": "code",
   "execution_count": 47,
   "id": "b2340c33",
   "metadata": {},
   "outputs": [],
   "source": [
    "df.drop(['Asymmetrique Activity Index', \n",
    "         'Asymmetrique Profile Index', \n",
    "         'Asymmetrique Activity Score', \n",
    "         'Asymmetrique Profile Score'],\n",
    "       axis = 1, inplace = True)"
   ]
  },
  {
   "cell_type": "code",
   "execution_count": 49,
   "id": "cb2ef6cd",
   "metadata": {},
   "outputs": [
    {
     "data": {
      "text/plain": [
       "Lead Origin                                 0.0\n",
       "Lead Source                                 0.0\n",
       "Do Not Email                                0.0\n",
       "Do Not Call                                 0.0\n",
       "Converted                                   0.0\n",
       "TotalVisits                                 0.0\n",
       "Total Time Spent on Website                 0.0\n",
       "Page Views Per Visit                        0.0\n",
       "Last Activity                               0.0\n",
       "Specialization                              0.0\n",
       "What is your current occupation             0.0\n",
       "Search                                      0.0\n",
       "Magazine                                    0.0\n",
       "Newspaper Article                           0.0\n",
       "X Education Forums                          0.0\n",
       "Newspaper                                   0.0\n",
       "Digital Advertisement                       0.0\n",
       "Through Recommendations                     0.0\n",
       "Receive More Updates About Our Courses      0.0\n",
       "Update me on Supply Chain Content           0.0\n",
       "Get updates on DM Content                   0.0\n",
       "I agree to pay the amount through cheque    0.0\n",
       "A free copy of Mastering The Interview      0.0\n",
       "Last Notable Activity                       0.0\n",
       "dtype: float64"
      ]
     },
     "execution_count": 49,
     "metadata": {},
     "output_type": "execute_result"
    }
   ],
   "source": [
    "df.isnull().sum()/len(df)   * 100\n",
    "# All the columns with missing values have been tackled\n",
    "# The logic behind the actions were also written in the form of comments\n",
    "# Our dataset doesn't have the problem of missing values now"
   ]
  },
  {
   "cell_type": "markdown",
   "id": "a9b675b7",
   "metadata": {},
   "source": [
    "----------------------------------------------------------------"
   ]
  },
  {
   "cell_type": "code",
   "execution_count": 50,
   "id": "25e6056a",
   "metadata": {},
   "outputs": [],
   "source": [
    "# WE ARE HERE!!!"
   ]
  },
  {
   "cell_type": "code",
   "execution_count": null,
   "id": "a19ccf69",
   "metadata": {},
   "outputs": [],
   "source": []
  },
  {
   "cell_type": "code",
   "execution_count": 81,
   "id": "d9409ff6",
   "metadata": {},
   "outputs": [
    {
     "data": {
      "text/plain": [
       "array(['api', 'landing page submission', 'lead add form', 'lead import',\n",
       "       'quick add form'], dtype=object)"
      ]
     },
     "execution_count": 81,
     "metadata": {},
     "output_type": "execute_result"
    }
   ],
   "source": [
    "df['Lead Origin'].unique()"
   ]
  },
  {
   "cell_type": "code",
   "execution_count": 82,
   "id": "1bbd7850",
   "metadata": {},
   "outputs": [
    {
     "name": "stdout",
     "output_type": "stream",
     "text": [
      "no     92.056277\n",
      "yes     7.943723\n",
      "Name: Do Not Email, dtype: float64\n",
      "\n",
      "no     99.978355\n",
      "yes     0.021645\n",
      "Name: Do Not Call, dtype: float64\n"
     ]
    }
   ],
   "source": [
    "print(df['Do Not Email'].value_counts(normalize = True) * 100)\n",
    "print()\n",
    "print(df['Do Not Call'].value_counts(normalize = True) * 100)"
   ]
  },
  {
   "cell_type": "code",
   "execution_count": 83,
   "id": "6ea41dc2",
   "metadata": {},
   "outputs": [
    {
     "data": {
      "text/plain": [
       "0    61.461039\n",
       "1    38.538961\n",
       "Name: Converted, dtype: float64"
      ]
     },
     "execution_count": 83,
     "metadata": {},
     "output_type": "execute_result"
    }
   ],
   "source": [
    "df.Converted.value_counts(normalize = True) * 100"
   ]
  },
  {
   "cell_type": "code",
   "execution_count": 84,
   "id": "b09cc6a4",
   "metadata": {},
   "outputs": [
    {
     "data": {
      "image/png": "[encoded data removed]",
      "text/plain": [
       "<Figure size 600x400 with 1 Axes>"
      ]
     },
     "metadata": {},
     "output_type": "display_data"
    }
   ],
   "source": [
    "plt.figure(figsize=(6, 4))\n",
    "sns.distplot(df['Total Time Spent on Website'])\n",
    "plt.show()"
   ]
  },
  {
   "cell_type": "code",
   "execution_count": null,
   "id": "fa685709",
   "metadata": {},
   "outputs": [],
   "source": []
  },
  {
   "cell_type": "code",
   "execution_count": null,
   "id": "417984a8",
   "metadata": {},
   "outputs": [],
   "source": []
  },
  {
   "cell_type": "code",
   "execution_count": 103,
   "id": "7523dfbf",
   "metadata": {},
   "outputs": [
    {
     "data": {
      "text/plain": [
       "['Lead Origin',\n",
       " 'Lead Source',\n",
       " 'Do Not Email',\n",
       " 'Do Not Call',\n",
       " 'Converted',\n",
       " 'TotalVisits',\n",
       " 'Total Time Spent on Website',\n",
       " 'Page Views Per Visit',\n",
       " 'Last Activity',\n",
       " 'Specialization',\n",
       " 'How did you hear about X Education',\n",
       " 'What is your current occupation',\n",
       " 'What matters most to you in choosing a course',\n",
       " 'Search',\n",
       " 'Newspaper Article',\n",
       " 'X Education Forums',\n",
       " 'Newspaper',\n",
       " 'Digital Advertisement',\n",
       " 'Through Recommendations',\n",
       " 'Tags',\n",
       " 'Lead Quality',\n",
       " 'Update me on Supply Chain Content',\n",
       " 'Get updates on DM Content',\n",
       " 'Lead Profile',\n",
       " 'City',\n",
       " 'Asymmetrique Activity Index',\n",
       " 'Asymmetrique Profile Index',\n",
       " 'Asymmetrique Activity Score',\n",
       " 'Asymmetrique Profile Score',\n",
       " 'A free copy of Mastering The Interview',\n",
       " 'Last Notable Activity']"
      ]
     },
     "execution_count": 103,
     "metadata": {},
     "output_type": "execute_result"
    }
   ],
   "source": [
    "list(df.columns)"
   ]
  },
  {
   "cell_type": "code",
   "execution_count": 89,
   "id": "50712596",
   "metadata": {},
   "outputs": [
    {
     "data": {
      "text/plain": [
       "array(['no'], dtype=object)"
      ]
     },
     "execution_count": 89,
     "metadata": {},
     "output_type": "execute_result"
    }
   ],
   "source": [
    "df['Magazine'].value_counts(normalize = True) * 100\n",
    "# This column only has one value\n",
    "# It doesn't have the necessary variance to be conducive to predictions\n",
    "# It would be wise to drop this column"
   ]
  },
  {
   "cell_type": "code",
   "execution_count": 92,
   "id": "629d51aa",
   "metadata": {},
   "outputs": [],
   "source": [
    "df.drop('Magazine', axis = 1, inplace = True)"
   ]
  },
  {
   "cell_type": "code",
   "execution_count": 96,
   "id": "6ef32f12",
   "metadata": {
    "collapsed": true
   },
   "outputs": [
    {
     "data": {
      "text/plain": [
       "True"
      ]
     },
     "execution_count": 96,
     "metadata": {},
     "output_type": "execute_result"
    }
   ],
   "source": [
    "df['Receive More Updates About Our Courses'].value_counts(normalize = True) * 100\n",
    "# This column only has one value\n",
    "# It doesn't have the necessary variance to be conducive to predictions\n",
    "# It would be wise to drop this column\n"
   ]
  },
  {
   "cell_type": "code",
   "execution_count": 97,
   "id": "64d2b085",
   "metadata": {},
   "outputs": [],
   "source": [
    "df.drop('Receive More Updates About Our Courses', axis = 1, inplace = True)"
   ]
  },
  {
   "cell_type": "code",
   "execution_count": 100,
   "id": "e254058a",
   "metadata": {},
   "outputs": [
    {
     "data": {
      "text/plain": [
       "array(['no'], dtype=object)"
      ]
     },
     "execution_count": 100,
     "metadata": {},
     "output_type": "execute_result"
    }
   ],
   "source": [
    "df['I agree to pay the amount through cheque'].value_counts(normalize = True) * 100\n",
    "# This column only has one value\n",
    "# It doesn't have the necessary variance to be conducive to predictions\n",
    "# It would be wise to drop this column\n"
   ]
  },
  {
   "cell_type": "code",
   "execution_count": 101,
   "id": "0b390dfe",
   "metadata": {},
   "outputs": [],
   "source": [
    "df.drop('I agree to pay the amount through cheque', axis = 1, inplace = True)"
   ]
  },
  {
   "cell_type": "code",
   "execution_count": 104,
   "id": "3bde8c78",
   "metadata": {},
   "outputs": [
    {
     "data": {
      "text/plain": [
       "array(['no'], dtype=object)"
      ]
     },
     "execution_count": 104,
     "metadata": {},
     "output_type": "execute_result"
    }
   ],
   "source": [
    "df['Get updates on DM Content'].value_counts(normalize = True) * 100\n",
    "# This column only has one value\n",
    "# It doesn't have the necessary variance to be conducive to predictions\n",
    "# It would be wise to drop this column"
   ]
  },
  {
   "cell_type": "code",
   "execution_count": 105,
   "id": "1922b2df",
   "metadata": {},
   "outputs": [],
   "source": [
    "df.drop('Get updates on DM Content', axis = 1, inplace = True)"
   ]
  },
  {
   "cell_type": "code",
   "execution_count": 109,
   "id": "493cf95e",
   "metadata": {},
   "outputs": [
    {
     "data": {
      "text/plain": [
       "no     92.056277\n",
       "yes     7.943723\n",
       "Name: Do Not Email, dtype: float64"
      ]
     },
     "execution_count": 109,
     "metadata": {},
     "output_type": "execute_result"
    }
   ],
   "source": [
    "df['Do Not Email'].value_counts(normalize = True) * 100"
   ]
  },
  {
   "cell_type": "code",
   "execution_count": 110,
   "id": "ac29be33",
   "metadata": {},
   "outputs": [
    {
     "data": {
      "text/plain": [
       "no     99.978355\n",
       "yes     0.021645\n",
       "Name: Do Not Call, dtype: float64"
      ]
     },
     "execution_count": 110,
     "metadata": {},
     "output_type": "execute_result"
    }
   ],
   "source": [
    "df['Do Not Call'].value_counts(normalize = True) * 100"
   ]
  },
  {
   "cell_type": "code",
   "execution_count": 111,
   "id": "cebb22ae",
   "metadata": {},
   "outputs": [],
   "source": [
    "# This column has one value which is overwhelming \n",
    "# The essential variance needed to be informative enough for making predictions is non-existent\n",
    "# It would be wise to drop this column\n",
    "df.drop('Do Not Email', axis = 1, inplace = True)\n",
    "df.drop('Do Not Call', axis = 1, inplace = True)"
   ]
  },
  {
   "cell_type": "code",
   "execution_count": 112,
   "id": "20b8b17b",
   "metadata": {},
   "outputs": [
    {
     "data": {
      "text/plain": [
       "['Lead Origin',\n",
       " 'Lead Source',\n",
       " 'Converted',\n",
       " 'TotalVisits',\n",
       " 'Total Time Spent on Website',\n",
       " 'Page Views Per Visit',\n",
       " 'Last Activity',\n",
       " 'Specialization',\n",
       " 'How did you hear about X Education',\n",
       " 'What is your current occupation',\n",
       " 'What matters most to you in choosing a course',\n",
       " 'Search',\n",
       " 'Newspaper Article',\n",
       " 'X Education Forums',\n",
       " 'Newspaper',\n",
       " 'Digital Advertisement',\n",
       " 'Through Recommendations',\n",
       " 'Tags',\n",
       " 'Lead Quality',\n",
       " 'Update me on Supply Chain Content',\n",
       " 'Lead Profile',\n",
       " 'City',\n",
       " 'Asymmetrique Activity Index',\n",
       " 'Asymmetrique Profile Index',\n",
       " 'Asymmetrique Activity Score',\n",
       " 'Asymmetrique Profile Score',\n",
       " 'A free copy of Mastering The Interview',\n",
       " 'Last Notable Activity']"
      ]
     },
     "execution_count": 112,
     "metadata": {},
     "output_type": "execute_result"
    }
   ],
   "source": [
    "list(df.columns)"
   ]
  },
  {
   "cell_type": "code",
   "execution_count": 124,
   "id": "027ad7d9",
   "metadata": {},
   "outputs": [],
   "source": [
    "useless_columns = list()"
   ]
  },
  {
   "cell_type": "code",
   "execution_count": 75,
   "id": "be44f067",
   "metadata": {},
   "outputs": [
    {
     "data": {
      "text/plain": [
       "better career prospects      99.954065\n",
       "flexibility & convenience     0.030623\n",
       "other                         0.015312\n",
       "Name: What matters most to you in choosing a course, dtype: float64"
      ]
     },
     "execution_count": 75,
     "metadata": {},
     "output_type": "execute_result"
    }
   ],
   "source": [
    "df['What matters most to you in choosing a course'].value_counts(normalize = True) * 100\n",
    "# Drop this column, it doesn't have the necessary amount of variance to contribute in predictions"
   ]
  },
  {
   "cell_type": "code",
   "execution_count": 125,
   "id": "006be92b",
   "metadata": {},
   "outputs": [],
   "source": [
    "useless_columns.append('What matters most to you in choosing a course')"
   ]
  },
  {
   "cell_type": "code",
   "execution_count": 114,
   "id": "4676967b",
   "metadata": {},
   "outputs": [
    {
     "data": {
      "text/plain": [
       "no     99.848485\n",
       "yes     0.151515\n",
       "Name: Search, dtype: float64"
      ]
     },
     "execution_count": 114,
     "metadata": {},
     "output_type": "execute_result"
    }
   ],
   "source": [
    "df['Search'].value_counts(normalize = True) * 100"
   ]
  },
  {
   "cell_type": "code",
   "execution_count": 127,
   "id": "cf17f531",
   "metadata": {},
   "outputs": [],
   "source": [
    "useless_columns.append('Search')"
   ]
  },
  {
   "cell_type": "code",
   "execution_count": 115,
   "id": "7360e160",
   "metadata": {},
   "outputs": [
    {
     "data": {
      "text/plain": [
       "no     99.978355\n",
       "yes     0.021645\n",
       "Name: Newspaper Article, dtype: float64"
      ]
     },
     "execution_count": 115,
     "metadata": {},
     "output_type": "execute_result"
    }
   ],
   "source": [
    "df['Newspaper Article'].value_counts(normalize = True) * 100"
   ]
  },
  {
   "cell_type": "code",
   "execution_count": 129,
   "id": "7844bf0b",
   "metadata": {},
   "outputs": [],
   "source": [
    "useless_columns.append('Newspaper Article')"
   ]
  },
  {
   "cell_type": "code",
   "execution_count": 116,
   "id": "07beb59f",
   "metadata": {},
   "outputs": [
    {
     "data": {
      "text/plain": [
       "no     99.989177\n",
       "yes     0.010823\n",
       "Name: X Education Forums, dtype: float64"
      ]
     },
     "execution_count": 116,
     "metadata": {},
     "output_type": "execute_result"
    }
   ],
   "source": [
    "df['X Education Forums'].value_counts(normalize = True) * 100"
   ]
  },
  {
   "cell_type": "code",
   "execution_count": 130,
   "id": "5431be75",
   "metadata": {},
   "outputs": [],
   "source": [
    "useless_columns.append('X Education Forums')"
   ]
  },
  {
   "cell_type": "code",
   "execution_count": 117,
   "id": "3ebe01cd",
   "metadata": {},
   "outputs": [
    {
     "data": {
      "text/plain": [
       "no     99.989177\n",
       "yes     0.010823\n",
       "Name: Newspaper, dtype: float64"
      ]
     },
     "execution_count": 117,
     "metadata": {},
     "output_type": "execute_result"
    }
   ],
   "source": [
    "df['Newspaper'].value_counts(normalize = True) * 100"
   ]
  },
  {
   "cell_type": "code",
   "execution_count": 131,
   "id": "3d6f6bbb",
   "metadata": {},
   "outputs": [],
   "source": [
    "useless_columns.append('Newspaper')"
   ]
  },
  {
   "cell_type": "code",
   "execution_count": 119,
   "id": "7ab149c6",
   "metadata": {},
   "outputs": [
    {
     "data": {
      "text/plain": [
       "no     99.95671\n",
       "yes     0.04329\n",
       "Name: Digital Advertisement, dtype: float64"
      ]
     },
     "execution_count": 119,
     "metadata": {},
     "output_type": "execute_result"
    }
   ],
   "source": [
    "df['Digital Advertisement'].value_counts(normalize = True) * 100"
   ]
  },
  {
   "cell_type": "code",
   "execution_count": 132,
   "id": "350f675f",
   "metadata": {},
   "outputs": [],
   "source": [
    "useless_columns.append('Digital Advertisement')"
   ]
  },
  {
   "cell_type": "code",
   "execution_count": 120,
   "id": "ce90957d",
   "metadata": {},
   "outputs": [
    {
     "data": {
      "text/plain": [
       "no     99.924242\n",
       "yes     0.075758\n",
       "Name: Through Recommendations, dtype: float64"
      ]
     },
     "execution_count": 120,
     "metadata": {},
     "output_type": "execute_result"
    }
   ],
   "source": [
    "df['Through Recommendations'].value_counts(normalize = True) * 100"
   ]
  },
  {
   "cell_type": "code",
   "execution_count": 133,
   "id": "d3df4efe",
   "metadata": {},
   "outputs": [],
   "source": [
    "useless_columns.append('Through Recommendations')"
   ]
  },
  {
   "cell_type": "code",
   "execution_count": 121,
   "id": "2eaea021",
   "metadata": {},
   "outputs": [
    {
     "data": {
      "text/plain": [
       "no    100.0\n",
       "Name: Update me on Supply Chain Content, dtype: float64"
      ]
     },
     "execution_count": 121,
     "metadata": {},
     "output_type": "execute_result"
    }
   ],
   "source": [
    "df['Update me on Supply Chain Content'].value_counts(normalize = True) * 100"
   ]
  },
  {
   "cell_type": "code",
   "execution_count": 134,
   "id": "d4301e82",
   "metadata": {},
   "outputs": [],
   "source": [
    "useless_columns.append('Update me on Supply Chain Content')"
   ]
  },
  {
   "cell_type": "code",
   "execution_count": 136,
   "id": "18028719",
   "metadata": {},
   "outputs": [],
   "source": [
    "df.drop(useless_columns, axis = 1, inplace = True)"
   ]
  },
  {
   "cell_type": "code",
   "execution_count": 138,
   "id": "aa622c36",
   "metadata": {},
   "outputs": [
    {
     "data": {
      "text/plain": [
       "['Lead Origin',\n",
       " 'Lead Source',\n",
       " 'Converted',\n",
       " 'TotalVisits',\n",
       " 'Total Time Spent on Website',\n",
       " 'Page Views Per Visit',\n",
       " 'Last Activity',\n",
       " 'Specialization',\n",
       " 'How did you hear about X Education',\n",
       " 'What is your current occupation',\n",
       " 'Tags',\n",
       " 'Lead Quality',\n",
       " 'Lead Profile',\n",
       " 'City',\n",
       " 'Asymmetrique Activity Index',\n",
       " 'Asymmetrique Profile Index',\n",
       " 'Asymmetrique Activity Score',\n",
       " 'Asymmetrique Profile Score',\n",
       " 'A free copy of Mastering The Interview',\n",
       " 'Last Notable Activity']"
      ]
     },
     "execution_count": 138,
     "metadata": {},
     "output_type": "execute_result"
    }
   ],
   "source": [
    "list(df.columns)"
   ]
  },
  {
   "cell_type": "code",
   "execution_count": null,
   "id": "dcb3e2fb",
   "metadata": {},
   "outputs": [],
   "source": []
  },
  {
   "cell_type": "code",
   "execution_count": 122,
   "id": "c1045d7d",
   "metadata": {},
   "outputs": [
    {
     "data": {
      "text/plain": [
       "no     68.744589\n",
       "yes    31.255411\n",
       "Name: A free copy of Mastering The Interview, dtype: float64"
      ]
     },
     "execution_count": 122,
     "metadata": {},
     "output_type": "execute_result"
    }
   ],
   "source": [
    "df['A free copy of Mastering The Interview'].value_counts(normalize = True) * 100"
   ]
  },
  {
   "cell_type": "code",
   "execution_count": 123,
   "id": "b8e06060",
   "metadata": {},
   "outputs": [
    {
     "data": {
      "text/plain": [
       "modified                        36.872294\n",
       "email opened                    30.595238\n",
       "sms sent                        23.506494\n",
       "page visited on website          3.441558\n",
       "olark chat conversation          1.980519\n",
       "email link clicked               1.872294\n",
       "email bounced                    0.649351\n",
       "unsubscribed                     0.508658\n",
       "unreachable                      0.346320\n",
       "had a phone conversation         0.151515\n",
       "email marked spam                0.021645\n",
       "approached upfront               0.010823\n",
       "resubscribed to emails           0.010823\n",
       "view in browser link clicked     0.010823\n",
       "form submitted on website        0.010823\n",
       "email received                   0.010823\n",
       "Name: Last Notable Activity, dtype: float64"
      ]
     },
     "execution_count": 123,
     "metadata": {},
     "output_type": "execute_result"
    }
   ],
   "source": [
    "df['Last Notable Activity'].value_counts(normalize = True) * 100"
   ]
  },
  {
   "cell_type": "code",
   "execution_count": null,
   "id": "fc4dba71",
   "metadata": {},
   "outputs": [],
   "source": []
  },
  {
   "cell_type": "code",
   "execution_count": null,
   "id": "abbc7f8c",
   "metadata": {},
   "outputs": [],
   "source": []
  },
  {
   "cell_type": "code",
   "execution_count": null,
   "id": "0eedf3c3",
   "metadata": {},
   "outputs": [],
   "source": []
  },
  {
   "cell_type": "code",
   "execution_count": null,
   "id": "209af956",
   "metadata": {},
   "outputs": [],
   "source": []
  },
  {
   "cell_type": "code",
   "execution_count": null,
   "id": "60d3e5d5",
   "metadata": {},
   "outputs": [],
   "source": []
  },
  {
   "cell_type": "code",
   "execution_count": null,
   "id": "05a6a3ef",
   "metadata": {},
   "outputs": [],
   "source": []
  },
  {
   "cell_type": "code",
   "execution_count": null,
   "id": "4c175898",
   "metadata": {},
   "outputs": [],
   "source": [
    "# TotalVisits \n",
    "plt.figure(figsize=(10, 2))\n",
    "sns.distplot(df['TotalVisits'])\n",
    "plt.show()\n",
    "# Most of the values are in the range 0 to 20\n",
    "\n",
    "plt.figure(figsize=(3, 3))\n",
    "sns.distplot(df[df['TotalVisits'].isin(range(0,21))].TotalVisits)\n",
    "plt.show()"
   ]
  },
  {
   "cell_type": "code",
   "execution_count": null,
   "id": "1d16830b",
   "metadata": {},
   "outputs": [],
   "source": [
    "# Page Views Per Visit\n",
    "\n",
    "df['Page Views Per Visit'].describe()\n",
    "# The median of the average number of page views per visit is 2\n",
    "# The average number of page views per visit do not exceed 3\n",
    "# 1.48% of the values are missing\n",
    "# We should impute the median for these missing values\n",
    "\n",
    "plt.figure(figsize=(4, 4))\n",
    "sns.boxplot(df['Page Views Per Visit'])\n",
    "plt.show()\n",
    "\n",
    "plt.figure(figsize=(10, 3))\n",
    "sns.distplot(df['Page Views Per Visit'])\n",
    "plt.show()"
   ]
  },
  {
   "cell_type": "code",
   "execution_count": null,
   "id": "51ec93ee",
   "metadata": {},
   "outputs": [],
   "source": [
    "# Last Activity\n",
    "\n",
    "plt.figure(figsize=(8, 3))\n",
    "sns.histplot(df['Last Activity'])\n",
    "plt.xticks(rotation='vertical')\n",
    "plt.show()"
   ]
  },
  {
   "cell_type": "code",
   "execution_count": null,
   "id": "ba2b6ce6",
   "metadata": {},
   "outputs": [],
   "source": [
    "# Country\n",
    "\n",
    "plt.figure(figsize=(8, 4))\n",
    "(df.Country.value_counts(normalize = True, dropna = False) * 100).plot.bar() \n",
    "plt.show()"
   ]
  }
 ],
 "metadata": {
  "kernelspec": {
   "display_name": "Python 3 (ipykernel)",
   "language": "python",
   "name": "python3"
  },
  "language_info": {
   "codemirror_mode": {
    "name": "ipython",
    "version": 3
   },
   "file_extension": ".py",
   "mimetype": "text/x-python",
   "name": "python",
   "nbconvert_exporter": "python",
   "pygments_lexer": "ipython3",
   "version": "3.10.7"
  }
 },
 "nbformat": 4,
 "nbformat_minor": 5
}
